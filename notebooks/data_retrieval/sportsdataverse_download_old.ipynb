{
 "cells": [
  {
   "cell_type": "code",
   "execution_count": 2,
   "id": "c0a47108",
   "metadata": {},
   "outputs": [],
   "source": [
    "\n",
    "import os\n",
    "import sys\n",
    "\n",
    "import sportsdataverse\n",
    "\n",
    "from tqdm import tqdm\n",
    "from sportsdataverse.mbb import espn_mbb_pbp, load_mbb_schedule,espn_mbb_calendar,espn_mbb_schedule\n",
    "\n",
    "# Groups = [\n",
    "#50, # reg season\n",
    "#55, # CBI \n",
    "#56 # CIT lol\n",
    "#and 100] # 100 NCAA\n",
    "# schedule = espn_mbb_schedule(dates=2019, groups =100)\n",
    "# schedule['date'] = pd.to_datetime(schedule['date'].copy())\n",
    "# schedule = schedule.sort_values(by=['date'])\n"
   ]
  },
  {
   "cell_type": "code",
   "execution_count": 4,
   "id": "97bd7308",
   "metadata": {},
   "outputs": [
    {
     "name": "stderr",
     "output_type": "stream",
     "text": [
      "100%|██████████████████████████████████████████████████████████████████████████████████████████████████████████████████████| 1/1 [00:38<00:00, 38.99s/it]\n"
     ]
    }
   ],
   "source": [
    "\n",
    "\n",
    "DATA_PATH = '../../data/'\n",
    "\n",
    "def download_pbp_history():\n",
    "    \n",
    "    seasons = list(range(2006,2023))\n",
    "    # since not all exist, reversing and trying until they fail\n",
    "    seasons = seasons[::-1]\n",
    "    seasons=[2022]\n",
    "    for season in tqdm(seasons):\n",
    "        mbb_df = sportsdataverse.mbb.load_mbb_pbp(seasons=[season])\n",
    "        mbb_df.to_csv(os.path.join(DATA_PATH, f'ESPN/pbp/{season}.csv'), index=False)\n",
    "        \n",
    "    return\n",
    "\n",
    "\n",
    "\n",
    "download_pbp_history()\n",
    "\n"
   ]
  },
  {
   "cell_type": "code",
   "execution_count": 3,
   "id": "feb08821",
   "metadata": {},
   "outputs": [
    {
     "name": "stderr",
     "output_type": "stream",
     "text": [
      "100%|██████████████████████████████████████████████████████████████████████████████████████████████████████████████████████| 1/1 [00:02<00:00,  2.25s/it]\n"
     ]
    }
   ],
   "source": [
    "\n",
    "\n",
    "def download_player_boxscore_history():\n",
    "    \n",
    "    seasons = list(range(2003,2023))\n",
    "    # since not all exist, reversing and trying until they fail\n",
    "    seasons = seasons[::-1]\n",
    "    seasons=[2022]\n",
    "    for season in tqdm(seasons):\n",
    "        mbb_df = sportsdataverse.mbb.load_mbb_player_boxscore(seasons=[season])\n",
    "        mbb_df.to_csv(os.path.join(DATA_PATH, f'ESPN/player_boxscores/{season}.csv'), index=False)\n",
    "        \n",
    "    return\n",
    "\n",
    "\n",
    "\n",
    "download_player_boxscore_history()\n"
   ]
  },
  {
   "cell_type": "code",
   "execution_count": 5,
   "id": "35c4f4ba",
   "metadata": {},
   "outputs": [
    {
     "name": "stderr",
     "output_type": "stream",
     "text": [
      "100%|██████████████████████████████████████████████████████████████████████████████████████████████████████████████████████| 1/1 [00:00<00:00,  2.00it/s]\n"
     ]
    }
   ],
   "source": [
    "\n",
    "def download_schedules():\n",
    "    \n",
    "    seasons = list(range(2003,2023))\n",
    "    # since not all exist, reversing and trying until they fail\n",
    "    seasons = seasons[::-1]\n",
    "    # for update\n",
    "    seasons=[2022]\n",
    "    for season in tqdm(seasons):\n",
    "        mbb_df = sportsdataverse.mbb.load_mbb_schedule(seasons=[season])\n",
    "        mbb_df.to_csv(os.path.join(DATA_PATH, f'ESPN/schedules/by_season/{season}.csv'), index=False)\n",
    "        \n",
    "    return\n",
    "\n",
    "download_schedules()\n"
   ]
  },
  {
   "cell_type": "code",
   "execution_count": 5,
   "id": "a91826a1",
   "metadata": {},
   "outputs": [
    {
     "name": "stderr",
     "output_type": "stream",
     "text": [
      "100%|██████████████████████████████████████████████████████████████████████████████████████████████████████████████████████| 1/1 [00:00<00:00,  1.66it/s]\n"
     ]
    }
   ],
   "source": [
    "\n",
    "# mbb_df = sportsdataverse.mbb.load_mbb_team_boxscore(seasons=range(2002,2023))\n",
    "\n",
    "\n",
    "def download_team_boxscore_history():\n",
    "    \n",
    "    seasons = list(range(2003,2023))\n",
    "    # since not all exist, reversing and trying until they fail\n",
    "    seasons = seasons[::-1]\n",
    "    seasons=[2022]\n",
    "    for season in tqdm(seasons):\n",
    "        mbb_df = sportsdataverse.mbb.load_mbb_team_boxscore(seasons=[season])\n",
    "        mbb_df.to_csv(os.path.join(DATA_PATH, f'ESPN/team_boxscores/{season}.csv'), index=False)\n",
    "        \n",
    "    return\n",
    "\n",
    "download_team_boxscore_history()\n",
    "\n"
   ]
  },
  {
   "cell_type": "code",
   "execution_count": null,
   "id": "0fe534de",
   "metadata": {},
   "outputs": [],
   "source": []
  },
  {
   "cell_type": "code",
   "execution_count": null,
   "id": "944ff970",
   "metadata": {},
   "outputs": [],
   "source": []
  },
  {
   "cell_type": "code",
   "execution_count": null,
   "id": "3fb4783a",
   "metadata": {},
   "outputs": [],
   "source": []
  },
  {
   "cell_type": "code",
   "execution_count": null,
   "id": "8c6141d2",
   "metadata": {},
   "outputs": [],
   "source": [
    "\n",
    "\n"
   ]
  }
 ],
 "metadata": {
  "kernelspec": {
   "display_name": "Python 3 (ipykernel)",
   "language": "python",
   "name": "python3"
  },
  "language_info": {
   "codemirror_mode": {
    "name": "ipython",
    "version": 3
   },
   "file_extension": ".py",
   "mimetype": "text/x-python",
   "name": "python",
   "nbconvert_exporter": "python",
   "pygments_lexer": "ipython3",
   "version": "3.9.0"
  }
 },
 "nbformat": 4,
 "nbformat_minor": 5
}
