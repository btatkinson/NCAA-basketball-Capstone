{
 "cells": [
  {
   "cell_type": "code",
   "execution_count": 3,
   "id": "c0a47108",
   "metadata": {},
   "outputs": [],
   "source": [
    "\n",
    "import os\n",
    "import sys\n",
    "\n",
    "import sportsdataverse\n",
    "\n",
    "from tqdm import tqdm\n"
   ]
  },
  {
   "cell_type": "code",
   "execution_count": 4,
   "id": "97bd7308",
   "metadata": {},
   "outputs": [],
   "source": [
    "\n",
    "\n",
    "DATA_PATH = '../../data/'\n",
    "\n",
    "def download_pbp_history():\n",
    "    \n",
    "    seasons = list(range(2006,2023))\n",
    "    # since not all exist, reversing and trying until they fail\n",
    "    seasons = seasons[::-1]\n",
    "    \n",
    "    for season in tqdm(seasons):\n",
    "        mbb_df = sportsdataverse.mbb.load_mbb_pbp(seasons=[season])\n",
    "        mbb_df.to_csv(os.path.join(DATA_PATH, f'ESPN/pbp/{season}.csv'), index=False)\n",
    "        \n",
    "    return\n",
    "\n",
    "\n",
    "\n",
    "# download_pbp_history()\n",
    "\n"
   ]
  },
  {
   "cell_type": "code",
   "execution_count": 6,
   "id": "feb08821",
   "metadata": {},
   "outputs": [],
   "source": [
    "\n",
    "\n",
    "def download_boxscore_history():\n",
    "    \n",
    "    seasons = list(range(2003,2023))\n",
    "    # since not all exist, reversing and trying until they fail\n",
    "    seasons = seasons[::-1]\n",
    "    \n",
    "    for season in tqdm(seasons):\n",
    "        mbb_df = sportsdataverse.mbb.load_mbb_player_boxscore(seasons=[season])\n",
    "        mbb_df.to_csv(os.path.join(DATA_PATH, f'ESPN/boxscores/{season}.csv'), index=False)\n",
    "        \n",
    "    return\n",
    "\n",
    "\n",
    "\n",
    "# download_boxscore_history()\n"
   ]
  },
  {
   "cell_type": "code",
   "execution_count": 7,
   "id": "4da49307",
   "metadata": {},
   "outputs": [
    {
     "name": "stderr",
     "output_type": "stream",
     "text": [
      "100%|████████████████████████████████████████████████████████████████████████████████████████████████████████████████████| 20/20 [00:12<00:00,  1.59it/s]\n"
     ]
    }
   ],
   "source": [
    "\n",
    "def download_schedules():\n",
    "    \n",
    "    seasons = list(range(2003,2023))\n",
    "    # since not all exist, reversing and trying until they fail\n",
    "    seasons = seasons[::-1]\n",
    "    \n",
    "    for season in tqdm(seasons):\n",
    "        mbb_df = sportsdataverse.mbb.load_mbb_schedule(seasons=[season])\n",
    "        mbb_df.to_csv(os.path.join(DATA_PATH, f'ESPN/schedules/by_season/{season}.csv'), index=False)\n",
    "        \n",
    "    return\n",
    "\n",
    "# download_schedules()\n"
   ]
  },
  {
   "cell_type": "code",
   "execution_count": null,
   "id": "a91826a1",
   "metadata": {},
   "outputs": [],
   "source": [
    "\n",
    "schedule\n",
    "\n"
   ]
  },
  {
   "cell_type": "code",
   "execution_count": null,
   "id": "8c6141d2",
   "metadata": {},
   "outputs": [],
   "source": [
    "\n",
    "\n"
   ]
  }
 ],
 "metadata": {
  "kernelspec": {
   "display_name": "Python 3 (ipykernel)",
   "language": "python",
   "name": "python3"
  },
  "language_info": {
   "codemirror_mode": {
    "name": "ipython",
    "version": 3
   },
   "file_extension": ".py",
   "mimetype": "text/x-python",
   "name": "python",
   "nbconvert_exporter": "python",
   "pygments_lexer": "ipython3",
   "version": "3.9.0"
  }
 },
 "nbformat": 4,
 "nbformat_minor": 5
}
