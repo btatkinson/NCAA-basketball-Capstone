{
 "cells": [
  {
   "cell_type": "code",
   "execution_count": 1,
   "id": "647f3208",
   "metadata": {},
   "outputs": [],
   "source": [
    "\n",
    "\n",
    "import os\n",
    "import sys\n",
    "import sportsdataverse\n",
    "\n",
    "import numpy as np\n",
    "import pandas as pd\n",
    "\n",
    "from tqdm import tqdm\n",
    "from sportsdataverse.mbb import espn_mbb_pbp, load_mbb_schedule,espn_mbb_calendar,espn_mbb_schedule\n",
    "\n",
    "\n",
    "\"\"\"\n",
    "\n",
    "The problem with the old notebook is that sportsdataverse's schedule is inconsistent and missing tournament games\n",
    "Need to download using group numbers instead\n",
    "\n",
    "\"\"\"\n",
    "pass"
   ]
  },
  {
   "cell_type": "code",
   "execution_count": 2,
   "id": "19e98d75",
   "metadata": {},
   "outputs": [
    {
     "name": "stderr",
     "output_type": "stream",
     "text": [
      "\r",
      "  0%|                                                                                                                             | 0/12 [00:00<?, ?it/s]"
     ]
    },
    {
     "name": "stdout",
     "output_type": "stream",
     "text": [
      "Download error: http://site.api.espn.com/apis/site/v2/sports/basketball/mens-college-basketball/scoreboard?limit=300&dates=2011&groups=50\n",
      "Download error: http://site.api.espn.com/apis/site/v2/sports/basketball/mens-college-basketball/scoreboard?limit=300&dates=2011&groups=50\n",
      "Download error: http://site.api.espn.com/apis/site/v2/sports/basketball/mens-college-basketball/scoreboard?limit=300&dates=2011&groups=50\n"
     ]
    },
    {
     "name": "stderr",
     "output_type": "stream",
     "text": [
      "  0%|                                                                                                                             | 0/12 [00:26<?, ?it/s]\n",
      "\n",
      "KeyboardInterrupt\n",
      "\n"
     ]
    }
   ],
   "source": [
    "\n",
    "\n",
    "dates = list(range(2011, 2023))\n",
    "groups = [50, 100]\n",
    "# schedule = espn_mbb_schedule(dates=2019, groups =56)\n",
    "\n",
    "def download_historical_schedule():\n",
    "    \n",
    "    \n",
    "    \n",
    "    return \n",
    "\n",
    "\n",
    "DATA_PATH = '../../data/'\n",
    "\n",
    "for date in tqdm(dates):\n",
    "    year_schedule = pd.DataFrame()\n",
    "    for group in groups:\n",
    "        sub_schedule = espn_mbb_schedule(dates=date, groups=group)\n",
    "        if len(sub_schedule) > 0:\n",
    "            year_schedule = pd.concat([year_schedule, sub_schedule], axis=0).reset_index(drop=True)\n",
    "#             year_schedule['date'] = pd.to_datetime(year_schedule['date'].copy())\n",
    "            year_schedule = year_schedule.sort_values(by=['date'])\n",
    "    year_schedule.to_csv(os.path.join(DATA_PATH, f'ESPN/schedules/by_season/{date}.csv'), index=False)\n",
    "\n",
    "\n"
   ]
  },
  {
   "cell_type": "code",
   "execution_count": null,
   "id": "183274e9",
   "metadata": {},
   "outputs": [],
   "source": []
  }
 ],
 "metadata": {
  "kernelspec": {
   "display_name": "Python 3 (ipykernel)",
   "language": "python",
   "name": "python3"
  },
  "language_info": {
   "codemirror_mode": {
    "name": "ipython",
    "version": 3
   },
   "file_extension": ".py",
   "mimetype": "text/x-python",
   "name": "python",
   "nbconvert_exporter": "python",
   "pygments_lexer": "ipython3",
   "version": "3.9.0"
  }
 },
 "nbformat": 4,
 "nbformat_minor": 5
}
