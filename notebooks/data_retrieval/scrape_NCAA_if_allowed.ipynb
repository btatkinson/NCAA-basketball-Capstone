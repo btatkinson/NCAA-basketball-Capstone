{
 "cells": [
  {
   "cell_type": "code",
   "execution_count": null,
   "id": "72c7316b",
   "metadata": {},
   "outputs": [],
   "source": [
    "\n",
    "\n"
   ]
  },
  {
   "cell_type": "code",
   "execution_count": null,
   "id": "aae683a4",
   "metadata": {},
   "outputs": [],
   "source": [
    "\n",
    "# scrape_game <- function(game_id, save_file=F, use_file=F, base_path = NA, overwrite=F) {\n",
    "\n",
    "#   #track status of cleanliness of data for game\n",
    "#   status <- \"CLEAN\"\n",
    "\n",
    "#   base_url <- \"http://stats.ncaa.org/game/play_by_play/\"\n",
    "#   url_text <- paste0(base_url, game_id)\n",
    "#   file_dir <- paste0(base_path, \"play_by_play/\")\n",
    "#   file_path <- paste0(file_dir, game_id, \".html\")\n",
    "#   isUrlRead <- F\n",
    "\n",
    "#   # Give user option to save raw html file (to make future processing more efficient)\n",
    "#   if (save_file & !is.na(base_path) & (!file.exists(file_path) | overwrite)) {\n",
    "#     isUrlRead <- T\n",
    "#     file_url <- url(url_text, headers = c(\"User-Agent\" = \"My Custom User Agent\"))\n",
    "#     html <- readLines(con = file_url, warn=F)\n",
    "#     close(file_url)\n",
    "#     dir.create(file_dir, recursive = T, showWarnings = F)\n",
    "#     writeLines(html, file_path)\n",
    "#   } else if (file.exists(file_path) & use_file) {\n",
    "#     html <- readLines(file_path, warn=F)\n",
    "#   } else {\n",
    "#     isUrlRead <- T\n",
    "#     file_url <- url(url_text, headers = c(\"User-Agent\" = \"My Custom User Agent\"))\n",
    "#     html <- readLines(con = file_url, warn=F)\n",
    "#     close(file_url)\n",
    "#   }\n",
    "\n"
   ]
  },
  {
   "cell_type": "code",
   "execution_count": null,
   "id": "b6473c5c",
   "metadata": {},
   "outputs": [],
   "source": [
    "\n",
    "def indv_game_pbp(game_id):\n",
    "    \n",
    "    return\n",
    "\n",
    "DATA_PATH = '../../data'\n",
    "game_id = 5224927\n",
    "status = 'CLEAN'\n",
    "base_url = 'http://stats.ncaa.org/game/play_by_play/'\n",
    " \n",
    "save_base_path = os.path.join()\n",
    "file_dir = os.path.join(base_url, game_id)\n",
    "\n"
   ]
  },
  {
   "cell_type": "code",
   "execution_count": null,
   "id": "166f4654",
   "metadata": {},
   "outputs": [],
   "source": []
  },
  {
   "cell_type": "code",
   "execution_count": null,
   "id": "4b945b66",
   "metadata": {},
   "outputs": [],
   "source": []
  },
  {
   "cell_type": "code",
   "execution_count": null,
   "id": "16b41637",
   "metadata": {},
   "outputs": [],
   "source": []
  },
  {
   "cell_type": "code",
   "execution_count": null,
   "id": "b8465927",
   "metadata": {},
   "outputs": [],
   "source": []
  },
  {
   "cell_type": "code",
   "execution_count": null,
   "id": "3246b9bc",
   "metadata": {},
   "outputs": [],
   "source": []
  }
 ],
 "metadata": {
  "kernelspec": {
   "display_name": "Python 3 (ipykernel)",
   "language": "python",
   "name": "python3"
  },
  "language_info": {
   "codemirror_mode": {
    "name": "ipython",
    "version": 3
   },
   "file_extension": ".py",
   "mimetype": "text/x-python",
   "name": "python",
   "nbconvert_exporter": "python",
   "pygments_lexer": "ipython3",
   "version": "3.9.0"
  }
 },
 "nbformat": 4,
 "nbformat_minor": 5
}
