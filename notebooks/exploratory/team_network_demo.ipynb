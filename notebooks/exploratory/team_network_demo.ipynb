{
 "cells": [
  {
   "cell_type": "markdown",
   "id": "94828154",
   "metadata": {},
   "source": [
    "\n",
    "# Team Network demo\n",
    "\n",
    "The goal of this notebook is to show network concepts that can aid college basketball analysis\n",
    "\n",
    "- I'll start in the abstract, with simulated scores.\n",
    "- Then I'll move to actual CBB data\n"
   ]
  },
  {
   "cell_type": "markdown",
   "id": "8050155e",
   "metadata": {},
   "source": [
    "\n",
    "### Introduction\n",
    "\n",
    "There are around 350 teams in college basketball and there isn't enough time for them to all play each other. Teams instead are arranged in conferences that play each other regularly. Non-conference games offer a glimpse into relative strength between conferences, but they are limited. Therefore, we must infer some team strength from the strength of their opponents and their opponent's opponents. This naturally lends itself to network architecture.\n",
    "\n",
    "If all teams played in a fully connected network, the network approach would be less useful. I'll demonstrate below.\n"
   ]
  },
  {
   "cell_type": "markdown",
   "id": "0d179a50",
   "metadata": {},
   "source": [
    "##### Section 1. Comparing fully connected schedule vs. One with \"conference\" schedules\n",
    "\n",
    "Let's first examine our ability to recover a \"true rating\" when all teams play each other once. For this first experiment, I'll use 18 teams to demonstrate.  \n",
    "\n",
    "For simplicity, team with a rating \"8\" will beat a team with rating \"0\" by 8 points on average. However, there will be\n",
    "randomness to the results. Home court advantage, overtime, etc. could be added but I decided against to keep things as simple as possible. \n",
    "\n",
    "The goal is to recover the \"true rating\"."
   ]
  },
  {
   "cell_type": "code",
   "execution_count": 1,
   "id": "f10f37d7",
   "metadata": {},
   "outputs": [
    {
     "data": {
      "text/html": [
       "<div>\n",
       "<style scoped>\n",
       "    .dataframe tbody tr th:only-of-type {\n",
       "        vertical-align: middle;\n",
       "    }\n",
       "\n",
       "    .dataframe tbody tr th {\n",
       "        vertical-align: top;\n",
       "    }\n",
       "\n",
       "    .dataframe thead th {\n",
       "        text-align: right;\n",
       "    }\n",
       "</style>\n",
       "<table border=\"1\" class=\"dataframe\">\n",
       "  <thead>\n",
       "    <tr style=\"text-align: right;\">\n",
       "      <th></th>\n",
       "      <th>name</th>\n",
       "      <th>true_rating</th>\n",
       "    </tr>\n",
       "  </thead>\n",
       "  <tbody>\n",
       "    <tr>\n",
       "      <th>0</th>\n",
       "      <td>Joseph Graves</td>\n",
       "      <td>-8.493232</td>\n",
       "    </tr>\n",
       "    <tr>\n",
       "      <th>1</th>\n",
       "      <td>George Shaw</td>\n",
       "      <td>11.101298</td>\n",
       "    </tr>\n",
       "    <tr>\n",
       "      <th>2</th>\n",
       "      <td>Michael Jennings</td>\n",
       "      <td>3.690803</td>\n",
       "    </tr>\n",
       "    <tr>\n",
       "      <th>3</th>\n",
       "      <td>Eric Williams</td>\n",
       "      <td>1.268077</td>\n",
       "    </tr>\n",
       "    <tr>\n",
       "      <th>4</th>\n",
       "      <td>David Delgado</td>\n",
       "      <td>1.663317</td>\n",
       "    </tr>\n",
       "  </tbody>\n",
       "</table>\n",
       "</div>"
      ],
      "text/plain": [
       "               name  true_rating\n",
       "0     Joseph Graves    -8.493232\n",
       "1       George Shaw    11.101298\n",
       "2  Michael Jennings     3.690803\n",
       "3     Eric Williams     1.268077\n",
       "4     David Delgado     1.663317"
      ]
     },
     "execution_count": 1,
     "metadata": {},
     "output_type": "execute_result"
    }
   ],
   "source": [
    "\n",
    "import networkx\n",
    "\n",
    "import numpy as np\n",
    "import pandas as pd\n",
    "import seaborn as sns\n",
    "\n",
    "from tqdm import tqdm\n",
    "from faker import Faker\n",
    "from itertools import combinations\n",
    "\n",
    "\n",
    "\n",
    "\n",
    "\n",
    "fake = Faker()\n",
    "\n",
    "# generate teams\n",
    "teams = pd.DataFrame([(fake.name(), np.random.normal(0, 8)) for i in range(18)], columns=['name', 'true_rating'])\n",
    "teams.head()\n"
   ]
  },
  {
   "cell_type": "code",
   "execution_count": 2,
   "id": "b5459b72",
   "metadata": {},
   "outputs": [
    {
     "data": {
      "text/html": [
       "<div>\n",
       "<style scoped>\n",
       "    .dataframe tbody tr th:only-of-type {\n",
       "        vertical-align: middle;\n",
       "    }\n",
       "\n",
       "    .dataframe tbody tr th {\n",
       "        vertical-align: top;\n",
       "    }\n",
       "\n",
       "    .dataframe thead th {\n",
       "        text-align: right;\n",
       "    }\n",
       "</style>\n",
       "<table border=\"1\" class=\"dataframe\">\n",
       "  <thead>\n",
       "    <tr style=\"text-align: right;\">\n",
       "      <th></th>\n",
       "      <th>team_1</th>\n",
       "      <th>team_2</th>\n",
       "      <th>result</th>\n",
       "    </tr>\n",
       "  </thead>\n",
       "  <tbody>\n",
       "    <tr>\n",
       "      <th>0</th>\n",
       "      <td>Joseph Graves</td>\n",
       "      <td>George Shaw</td>\n",
       "      <td>-18.566265</td>\n",
       "    </tr>\n",
       "    <tr>\n",
       "      <th>1</th>\n",
       "      <td>George Shaw</td>\n",
       "      <td>Joseph Graves</td>\n",
       "      <td>18.566265</td>\n",
       "    </tr>\n",
       "    <tr>\n",
       "      <th>2</th>\n",
       "      <td>Joseph Graves</td>\n",
       "      <td>Michael Jennings</td>\n",
       "      <td>-10.769048</td>\n",
       "    </tr>\n",
       "    <tr>\n",
       "      <th>3</th>\n",
       "      <td>Michael Jennings</td>\n",
       "      <td>Joseph Graves</td>\n",
       "      <td>10.769048</td>\n",
       "    </tr>\n",
       "    <tr>\n",
       "      <th>4</th>\n",
       "      <td>Joseph Graves</td>\n",
       "      <td>Eric Williams</td>\n",
       "      <td>-31.001194</td>\n",
       "    </tr>\n",
       "  </tbody>\n",
       "</table>\n",
       "</div>"
      ],
      "text/plain": [
       "             team_1            team_2     result\n",
       "0     Joseph Graves       George Shaw -18.566265\n",
       "1       George Shaw     Joseph Graves  18.566265\n",
       "2     Joseph Graves  Michael Jennings -10.769048\n",
       "3  Michael Jennings     Joseph Graves  10.769048\n",
       "4     Joseph Graves     Eric Williams -31.001194"
      ]
     },
     "execution_count": 2,
     "metadata": {},
     "output_type": "execute_result"
    }
   ],
   "source": [
    "\n",
    "# Randomly generate game results with noise centered around true skill\n",
    "\n",
    "def play_game(skill_1, skill_2, vol=6):\n",
    "    return np.random.normal(skill_1, vol) - np.random.normal(skill_2, vol)\n",
    "\n",
    "\n",
    "def play_season(schedule, skill_dict):\n",
    "    \n",
    "    game_results = []\n",
    "    \n",
    "    for game in schedule:\n",
    "        \n",
    "        team_1_true_skill = skill_dict[game[0]]\n",
    "        team_2_true_skill = skill_dict[game[1]]\n",
    "        \n",
    "        game_result = play_game(team_1_true_skill, team_2_true_skill)\n",
    "        game_results.append([game[0], game[1], game_result])\n",
    "        game_results.append([game[1], game[0], -1*game_result])\n",
    "    return pd.DataFrame(game_results, columns=['team_1','team_2','result'])\n",
    "\n",
    "skill_dict = teams.copy().set_index('name').to_dict()['true_rating']\n",
    "schedule = list(combinations(list(teams.name.values),2))\n",
    "\n",
    "game_results = play_season(schedule, skill_dict)\n",
    "game_results.head()\n"
   ]
  },
  {
   "cell_type": "markdown",
   "id": "7d192eeb",
   "metadata": {},
   "source": [
    "\n",
    "One way to recover the \"true\" rating from the random game results is to one hot encode each team, and then run a ridge regression with the result as the target. The corresponding coefficient will correlate will with the true rating.\n"
   ]
  },
  {
   "cell_type": "code",
   "execution_count": 3,
   "id": "28e67c3e",
   "metadata": {},
   "outputs": [
    {
     "data": {
      "text/html": [
       "<div>\n",
       "<style scoped>\n",
       "    .dataframe tbody tr th:only-of-type {\n",
       "        vertical-align: middle;\n",
       "    }\n",
       "\n",
       "    .dataframe tbody tr th {\n",
       "        vertical-align: top;\n",
       "    }\n",
       "\n",
       "    .dataframe thead th {\n",
       "        text-align: right;\n",
       "    }\n",
       "</style>\n",
       "<table border=\"1\" class=\"dataframe\">\n",
       "  <thead>\n",
       "    <tr style=\"text-align: right;\">\n",
       "      <th></th>\n",
       "      <th>name</th>\n",
       "      <th>model_rating</th>\n",
       "    </tr>\n",
       "  </thead>\n",
       "  <tbody>\n",
       "    <tr>\n",
       "      <th>0</th>\n",
       "      <td>Beverly Waters</td>\n",
       "      <td>-3.865857</td>\n",
       "    </tr>\n",
       "    <tr>\n",
       "      <th>1</th>\n",
       "      <td>Brittany Gardner</td>\n",
       "      <td>-2.595798</td>\n",
       "    </tr>\n",
       "    <tr>\n",
       "      <th>2</th>\n",
       "      <td>Carly Finley</td>\n",
       "      <td>8.496984</td>\n",
       "    </tr>\n",
       "    <tr>\n",
       "      <th>3</th>\n",
       "      <td>David Delgado</td>\n",
       "      <td>-0.713346</td>\n",
       "    </tr>\n",
       "    <tr>\n",
       "      <th>4</th>\n",
       "      <td>David Weber</td>\n",
       "      <td>1.680969</td>\n",
       "    </tr>\n",
       "  </tbody>\n",
       "</table>\n",
       "</div>"
      ],
      "text/plain": [
       "               name  model_rating\n",
       "0    Beverly Waters     -3.865857\n",
       "1  Brittany Gardner     -2.595798\n",
       "2      Carly Finley      8.496984\n",
       "3     David Delgado     -0.713346\n",
       "4       David Weber      1.680969"
      ]
     },
     "execution_count": 3,
     "metadata": {},
     "output_type": "execute_result"
    }
   ],
   "source": [
    "\n",
    "from sklearn.linear_model import Ridge\n",
    "from sklearn.preprocessing import OneHotEncoder\n",
    "\n",
    "def return_ratings_xy(rdata):\n",
    "    \n",
    "    y = rdata.result.values.reshape(-1,1)\n",
    "    \n",
    "    # don't need to shuffle for linear regression\n",
    "    team_ohe = OneHotEncoder()\n",
    "    team_X = team_ohe.fit_transform(rdata.team_1.values.reshape(-1,1)).toarray() # need toarray because it doesn't return a numpy object\n",
    "    opp_ohe = OneHotEncoder()\n",
    "    opp_X = opp_ohe.fit_transform(rdata.team_2.values.reshape(-1,1)).toarray()\n",
    "    \n",
    "    # save team ids for later\n",
    "    team_order = np.array(team_ohe.categories_[0])\n",
    "    X = np.concatenate((team_X, opp_X), axis=1)\n",
    "    \n",
    "    return X, y, team_order\n",
    "\n",
    "def get_team_ratings(X, y, teams, ridge_alpha=0.1):\n",
    "    \n",
    "    model = Ridge(ridge_alpha)\n",
    "    model.fit(X,y)\n",
    "    team_ratings = model.coef_[0][:len(teams)]\n",
    "    team_ratings = pd.DataFrame.from_dict({\n",
    "        'name':teams,\n",
    "        'model_rating':team_ratings\n",
    "    })\n",
    "    return team_ratings\n",
    "\n",
    "X, y, team_order = return_ratings_xy(game_results)\n",
    "model_ratings = get_team_ratings(X, y, team_order)\n",
    "\n",
    "model_ratings.head()\n",
    "\n"
   ]
  },
  {
   "cell_type": "code",
   "execution_count": 4,
   "id": "b6a9cf17",
   "metadata": {},
   "outputs": [
    {
     "data": {
      "text/html": [
       "<div>\n",
       "<style scoped>\n",
       "    .dataframe tbody tr th:only-of-type {\n",
       "        vertical-align: middle;\n",
       "    }\n",
       "\n",
       "    .dataframe tbody tr th {\n",
       "        vertical-align: top;\n",
       "    }\n",
       "\n",
       "    .dataframe thead th {\n",
       "        text-align: right;\n",
       "    }\n",
       "</style>\n",
       "<table border=\"1\" class=\"dataframe\">\n",
       "  <thead>\n",
       "    <tr style=\"text-align: right;\">\n",
       "      <th></th>\n",
       "      <th>name</th>\n",
       "      <th>model_rating</th>\n",
       "      <th>true_rating</th>\n",
       "    </tr>\n",
       "  </thead>\n",
       "  <tbody>\n",
       "    <tr>\n",
       "      <th>0</th>\n",
       "      <td>Beverly Waters</td>\n",
       "      <td>-3.865857</td>\n",
       "      <td>-0.866271</td>\n",
       "    </tr>\n",
       "    <tr>\n",
       "      <th>1</th>\n",
       "      <td>Brittany Gardner</td>\n",
       "      <td>-2.595798</td>\n",
       "      <td>-1.185376</td>\n",
       "    </tr>\n",
       "    <tr>\n",
       "      <th>2</th>\n",
       "      <td>Carly Finley</td>\n",
       "      <td>8.496984</td>\n",
       "      <td>10.907984</td>\n",
       "    </tr>\n",
       "    <tr>\n",
       "      <th>3</th>\n",
       "      <td>David Delgado</td>\n",
       "      <td>-0.713346</td>\n",
       "      <td>1.663317</td>\n",
       "    </tr>\n",
       "    <tr>\n",
       "      <th>4</th>\n",
       "      <td>David Weber</td>\n",
       "      <td>1.680969</td>\n",
       "      <td>0.351077</td>\n",
       "    </tr>\n",
       "  </tbody>\n",
       "</table>\n",
       "</div>"
      ],
      "text/plain": [
       "               name  model_rating  true_rating\n",
       "0    Beverly Waters     -3.865857    -0.866271\n",
       "1  Brittany Gardner     -2.595798    -1.185376\n",
       "2      Carly Finley      8.496984    10.907984\n",
       "3     David Delgado     -0.713346     1.663317\n",
       "4       David Weber      1.680969     0.351077"
      ]
     },
     "execution_count": 4,
     "metadata": {},
     "output_type": "execute_result"
    }
   ],
   "source": [
    "\n",
    "# merge in true ratings\n",
    "results = model_ratings.copy().merge(teams.copy(), how='left')\n",
    "results.head()\n"
   ]
  },
  {
   "cell_type": "code",
   "execution_count": 5,
   "id": "c96ec7aa",
   "metadata": {},
   "outputs": [
    {
     "data": {
      "image/png": "[encoded data removed]",
      "text/plain": [
       "<Figure size 720x432 with 1 Axes>"
      ]
     },
     "metadata": {
      "needs_background": "light"
     },
     "output_type": "display_data"
    }
   ],
   "source": [
    "import matplotlib.pyplot as plt\n",
    "\n",
    "fig, ax = plt.subplots(figsize=(10, 6))\n",
    "plt.plot(results.true_rating, results.true_rating, c='m', label='True')\n",
    "plt.scatter(results.model_rating, results.true_rating, label='Recovered')\n",
    "\n",
    "full_connected_error= np.round(np.mean((results['model_rating'].copy() - results['true_rating'].copy())**2),3)\n",
    "plt.suptitle(\"Examination of Recovered Rating\", fontsize=18)\n",
    "plt.title(f\"With {len(schedule)} games, the fully connected\\n schedule had an MSE of {full_connected_error}\")\n",
    "plt.xlabel(\"Model Rating\")\n",
    "plt.ylabel(\"True Rating\")\n",
    "plt.legend()\n",
    "plt.tight_layout()\n",
    "plt.show()\n"
   ]
  },
  {
   "cell_type": "markdown",
   "id": "b8154044",
   "metadata": {},
   "source": [
    "\n",
    "This is great, but we really need to bootstrap to get a lot of samples for a fair comparison.\n",
    "\n",
    "\n"
   ]
  },
  {
   "cell_type": "code",
   "execution_count": 6,
   "id": "a4a04e5e",
   "metadata": {},
   "outputs": [
    {
     "name": "stderr",
     "output_type": "stream",
     "text": [
      "100%|████████████████████████████████████████████████████████████████████████████████████████████████████████████████| 1000/1000 [00:36<00:00, 27.25it/s]\n"
     ]
    },
    {
     "data": {
      "image/png": "[encoded data removed]",
      "text/plain": [
       "<Figure size 360x360 with 1 Axes>"
      ]
     },
     "metadata": {
      "needs_background": "light"
     },
     "output_type": "display_data"
    }
   ],
   "source": [
    "\n",
    "def sim_fc_season():\n",
    "    \n",
    "    fake = Faker()\n",
    "    \n",
    "    # generate teams\n",
    "    teams = pd.DataFrame([(fake.name(), np.random.normal(0, 8)) for i in range(18)], columns=['name', 'true_rating'])\n",
    "    # create schedule\n",
    "    skill_dict = teams.copy().set_index('name').to_dict()['true_rating']\n",
    "    schedule = list(combinations(list(teams.name.values),2))\n",
    "    # run season\n",
    "    game_results = play_season(schedule, skill_dict)\n",
    "    # run model\n",
    "    X, y, team_order = return_ratings_xy(game_results)\n",
    "    model_ratings = get_team_ratings(X, y, team_order)\n",
    "    # get error\n",
    "    results = model_ratings.copy().merge(teams.copy(), how='left')\n",
    "    return np.mean((results['model_rating'].copy() - results['true_rating'].copy())**2)\n",
    "\n",
    "fc_errors = []\n",
    "for i in tqdm(range(1000)):\n",
    "    fc_error = sim_fc_season()\n",
    "    fc_errors.append(fc_error)\n",
    "    \n",
    "sns.displot(fc_errors)\n",
    "plt.title(\"Errors for a fully connected season\")\n",
    "plt.show()"
   ]
  },
  {
   "cell_type": "markdown",
   "id": "89289617",
   "metadata": {},
   "source": [
    "\n",
    "This time, I will do the same amount of games for each team. However, there will be 3 \"conferences\" of 6 teams each. To demonstrate potential problems with estimating relative conference skill, each team will play 12 conference games and 5 non-conference games.\n"
   ]
  },
  {
   "cell_type": "code",
   "execution_count": 8,
   "id": "0d723c9d",
   "metadata": {},
   "outputs": [
    {
     "data": {
      "text/plain": [
       "153.0"
      ]
     },
     "execution_count": 8,
     "metadata": {},
     "output_type": "execute_result"
    }
   ],
   "source": [
    "\n",
    "## cell for creating networkx graphs\n",
    "\n",
    "\n",
    "\n"
   ]
  },
  {
   "cell_type": "code",
   "execution_count": null,
   "id": "db28f8ec",
   "metadata": {},
   "outputs": [],
   "source": [
    "\n",
    "def sim_conf_season():\n",
    "    \n",
    "    fake = Faker()\n",
    "    \n",
    "    # generate teams\n",
    "    teams = pd.DataFrame([(fake.name(), np.random.normal(0, 8)) for i in range(18)], columns=['name', 'true_rating'])\n",
    "    # create schedule\n",
    "    skill_dict = teams.copy().set_index('name').to_dict()['true_rating']\n",
    "    schedule = list(combinations(list(teams.name.values),2))\n",
    "    # run season\n",
    "    game_results = play_season(schedule, skill_dict)\n",
    "    # run model\n",
    "    X, y, team_order = return_ratings_xy(game_results)\n",
    "    model_ratings = get_team_ratings(X, y, team_order)\n",
    "    # get error\n",
    "    results = model_ratings.copy().merge(teams.copy(), how='left')\n",
    "    return np.mean((results['model_rating'].copy() - results['true_rating'].copy())**2)\n",
    "\n",
    "conf_errors = []\n",
    "for i in tqdm(range(1000)):\n",
    "    conf_error = sim_conf_season()\n",
    "    conf_errors.append(conf_error)\n",
    "\n",
    "\n"
   ]
  }
 ],
 "metadata": {
  "kernelspec": {
   "display_name": "Python 3 (ipykernel)",
   "language": "python",
   "name": "python3"
  },
  "language_info": {
   "codemirror_mode": {
    "name": "ipython",
    "version": 3
   },
   "file_extension": ".py",
   "mimetype": "text/x-python",
   "name": "python",
   "nbconvert_exporter": "python",
   "pygments_lexer": "ipython3",
   "version": "3.9.0"
  }
 },
 "nbformat": 4,
 "nbformat_minor": 5
}
